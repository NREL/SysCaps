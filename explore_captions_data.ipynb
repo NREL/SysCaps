{
 "cells": [
  {
   "cell_type": "code",
   "execution_count": 1,
   "metadata": {},
   "outputs": [],
   "source": [
    "import os\n",
    "from pathlib import Path\n",
    "import pandas as pd"
   ]
  },
  {
   "cell_type": "markdown",
   "metadata": {},
   "source": [
    "Set the `SYSCAPS` environment variable to the path where the datasets are stored under. The data should be stored under a directory called `BuildingsBench`. For example, in my system `SYSCAPS` is set to `/projects/foundation/v2.0.0/BuildingsBench`.\n",
    "\n",
    "Many of the Python scripts in this project use the `SYSCAPS` environment variable to locate data and metadata."
   ]
  },
  {
   "cell_type": "code",
   "execution_count": 2,
   "metadata": {},
   "outputs": [],
   "source": [
    "os.environ['SYSCAPS'] = '/projects/cascde/pemami/v2.0.0/BuildingsBench/'"
   ]
  },
  {
   "cell_type": "code",
   "execution_count": 6,
   "metadata": {},
   "outputs": [],
   "source": [
    "# The dataset directory \n",
    "SYSCAPS_PATH = os.environ.get('SYSCAPS', '')\n",
    "if SYSCAPS_PATH == '':\n",
    "    raise ValueError('SYSCAPS environment variable not set')\n",
    "SYSCAPS_PATH = Path(SYSCAPS_PATH)"
   ]
  },
  {
   "cell_type": "markdown",
   "metadata": {},
   "source": [
    "The Buildings dataset has the LLM-generated natural language SysCaps captions stored in a single csv called `captions.csv`. "
   ]
  },
  {
   "cell_type": "code",
   "execution_count": 4,
   "metadata": {},
   "outputs": [
    {
     "data": {
      "text/html": [
       "<div>\n",
       "<style scoped>\n",
       "    .dataframe tbody tr th:only-of-type {\n",
       "        vertical-align: middle;\n",
       "    }\n",
       "\n",
       "    .dataframe tbody tr th {\n",
       "        vertical-align: top;\n",
       "    }\n",
       "\n",
       "    .dataframe thead th {\n",
       "        text-align: right;\n",
       "    }\n",
       "</style>\n",
       "<table border=\"1\" class=\"dataframe\">\n",
       "  <thead>\n",
       "    <tr style=\"text-align: right;\">\n",
       "      <th></th>\n",
       "      <th>building_id</th>\n",
       "      <th>caption</th>\n",
       "    </tr>\n",
       "  </thead>\n",
       "  <tbody>\n",
       "    <tr>\n",
       "      <th>0</th>\n",
       "      <td>1</td>\n",
       "      <td>The FullServiceRestaurant is a single-story b...</td>\n",
       "    </tr>\n",
       "    <tr>\n",
       "      <th>1</th>\n",
       "      <td>2</td>\n",
       "      <td>This Full Service Restaurant is a single-stor...</td>\n",
       "    </tr>\n",
       "    <tr>\n",
       "      <th>2</th>\n",
       "      <td>3</td>\n",
       "      <td>This strip mall restaurant is a single-story ...</td>\n",
       "    </tr>\n",
       "    <tr>\n",
       "      <th>3</th>\n",
       "      <td>4</td>\n",
       "      <td>Sure! Here's a building description based on ...</td>\n",
       "    </tr>\n",
       "    <tr>\n",
       "      <th>4</th>\n",
       "      <td>5</td>\n",
       "      <td>The retail standalone building is a single-st...</td>\n",
       "    </tr>\n",
       "    <tr>\n",
       "      <th>...</th>\n",
       "      <td>...</td>\n",
       "      <td>...</td>\n",
       "    </tr>\n",
       "    <tr>\n",
       "      <th>347169</th>\n",
       "      <td>349996</td>\n",
       "      <td>The primary school is a single-story building...</td>\n",
       "    </tr>\n",
       "    <tr>\n",
       "      <th>347170</th>\n",
       "      <td>349997</td>\n",
       "      <td>Sure, here's a building description based on ...</td>\n",
       "    </tr>\n",
       "    <tr>\n",
       "      <th>347171</th>\n",
       "      <td>349998</td>\n",
       "      <td>This three-story outpatient medical building ...</td>\n",
       "    </tr>\n",
       "    <tr>\n",
       "      <th>347172</th>\n",
       "      <td>349999</td>\n",
       "      <td>The building in question is a single-story st...</td>\n",
       "    </tr>\n",
       "    <tr>\n",
       "      <th>347173</th>\n",
       "      <td>350000</td>\n",
       "      <td>Sure, here's a building description based on ...</td>\n",
       "    </tr>\n",
       "  </tbody>\n",
       "</table>\n",
       "<p>347174 rows × 2 columns</p>\n",
       "</div>"
      ],
      "text/plain": [
       "        building_id                                            caption\n",
       "0                 1   The FullServiceRestaurant is a single-story b...\n",
       "1                 2   This Full Service Restaurant is a single-stor...\n",
       "2                 3   This strip mall restaurant is a single-story ...\n",
       "3                 4   Sure! Here's a building description based on ...\n",
       "4                 5   The retail standalone building is a single-st...\n",
       "...             ...                                                ...\n",
       "347169       349996   The primary school is a single-story building...\n",
       "347170       349997   Sure, here's a building description based on ...\n",
       "347171       349998   This three-story outpatient medical building ...\n",
       "347172       349999   The building in question is a single-story st...\n",
       "347173       350000   Sure, here's a building description based on ...\n",
       "\n",
       "[347174 rows x 2 columns]"
      ]
     },
     "execution_count": 4,
     "metadata": {},
     "output_type": "execute_result"
    }
   ],
   "source": [
    "# `captions` is the name of the subdirectory containing the captions\n",
    "# `comstock` (Commercial Building stock) is the detailed name of the Buildings dataset\n",
    "#  `medium` is the caption length (short, medium, long)\n",
    "df = pd.read_csv(SYSCAPS_PATH / 'captions' / 'comstock' / 'medium' / 'captions.csv', index_col=None, header=0)\n",
    "df"
   ]
  },
  {
   "cell_type": "markdown",
   "metadata": {},
   "source": [
    "The attributes used to create these captions are stored in parquet files under the `Buildings-900K` dataset sub-directory: "
   ]
  },
  {
   "cell_type": "code",
   "execution_count": 10,
   "metadata": {},
   "outputs": [
    {
     "data": {
      "text/plain": [
       "Index([], dtype='int64')"
      ]
     },
     "execution_count": 10,
     "metadata": {},
     "output_type": "execute_result"
    }
   ],
   "source": [
    "buildings_bench_path = SYSCAPS_PATH / 'Buildings-900K' / 'end-use-load-profiles-for-us-building-stock' / '2021'\n",
    "df1 = pd.read_parquet(buildings_bench_path / 'comstock_amy2018_release_1' / 'metadata' / 'metadata.parquet', engine=\"pyarrow\")\n",
    "df2 = pd.read_parquet(buildings_bench_path / 'comstock_tmy3_release_1' / 'metadata' / 'metadata.parquet', engine=\"pyarrow\")\n",
    "df = df1.loc[ df1.index.intersection(df2.index).values ]\n",
    "df.index"
   ]
  },
  {
   "cell_type": "code",
   "execution_count": 11,
   "metadata": {},
   "outputs": [
    {
     "data": {
      "text/html": [
       "<div>\n",
       "<style scoped>\n",
       "    .dataframe tbody tr th:only-of-type {\n",
       "        vertical-align: middle;\n",
       "    }\n",
       "\n",
       "    .dataframe tbody tr th {\n",
       "        vertical-align: top;\n",
       "    }\n",
       "\n",
       "    .dataframe thead th {\n",
       "        text-align: right;\n",
       "    }\n",
       "</style>\n",
       "<table border=\"1\" class=\"dataframe\">\n",
       "  <thead>\n",
       "    <tr style=\"text-align: right;\">\n",
       "      <th></th>\n",
       "    </tr>\n",
       "  </thead>\n",
       "  <tbody>\n",
       "  </tbody>\n",
       "</table>\n",
       "</div>"
      ],
      "text/plain": [
       "Empty DataFrame\n",
       "Columns: []\n",
       "Index: []"
      ]
     },
     "execution_count": 11,
     "metadata": {},
     "output_type": "execute_result"
    }
   ],
   "source": [
    "df1"
   ]
  },
  {
   "cell_type": "code",
   "execution_count": 14,
   "metadata": {},
   "outputs": [
    {
     "data": {
      "text/plain": [
       "{'applicability': True,\n",
       " 'in.upgrade_name': 'Baseline',\n",
       " 'in.tstat_clg_delta_f': 0.0,\n",
       " 'in.tstat_clg_sp_f': 999.0,\n",
       " 'in.tstat_htg_delta_f': 7.0,\n",
       " 'in.tstat_htg_sp_f': 999.0,\n",
       " 'in.aspect_ratio': 4.0,\n",
       " 'in.building_subtype': None,\n",
       " 'in.county': 'G2101110',\n",
       " 'in.building_type': 'Warehouse',\n",
       " 'in.rotation': 0.0,\n",
       " 'in.number_of_stories': 1.0,\n",
       " 'in.sqft': 350000.0,\n",
       " 'in.hvac_system_type': 'Gas unit heaters',\n",
       " 'in.weekday_operating_hours': 18.75,\n",
       " 'in.weekday_opening_time': 4.0,\n",
       " 'in.weekend_operating_hours': 12.0,\n",
       " 'in.weekend_opening_time': 9.25,\n",
       " 'in.energy_code_followed_during_last_exterior_lighting_replaceme': 'ComStock 90.1-2007',\n",
       " 'in.energy_code_followed_during_last_hvac_replacement': 'ComStock 90.1-2010',\n",
       " 'in.energy_code_followed_during_last_interior_equipment_replacem': 'ComStock 90.1-2010',\n",
       " 'in.energy_code_followed_during_last_interior_lighting_replaceme': 'ComStock 90.1-2019',\n",
       " 'in.energy_code_followed_during_last_roof_replacement': 'ComStock DOE Ref 1980-2004',\n",
       " 'in.energy_code_followed_during_last_service_water_heating_repla': 'ComStock 90.1-2007',\n",
       " 'in.energy_code_followed_during_last_walls_replacement': 'ComStock DOE Ref 1980-2004',\n",
       " 'in.energy_code_followed_during_last_windows_replacement': 'ComStock DOE Ref 1980-2004',\n",
       " 'in.energy_code_followed_during_original_building_construction': 'ComStock DOE Ref 1980-2004',\n",
       " 'in.heating_fuel': 'NaturalGas',\n",
       " 'in.number_stories': '1',\n",
       " 'in.service_water_heating_fuel': 'NaturalGas',\n",
       " 'stat.air_system_fan_total_efficiency': 0.0,\n",
       " 'stat.average_boiler_efficiency': 0.0,\n",
       " 'stat.average_dx_cooling_cop': 0.0,\n",
       " 'stat.average_dx_heating_cop': 0.0,\n",
       " 'stat.average_gas_coil_efficiency': 0.7999999999999999,\n",
       " 'stat.design_dx_cooling_cop': 0.0,\n",
       " 'stat.design_dx_heating_cop': 0.0,\n",
       " 'stat.occupant_density_ppl_per_m_2': 0.0010337659564208,\n",
       " 'qoi_report.maximum_daily_timing_shoulder_hour': 10.549019607843137,\n",
       " 'qoi_report.maximum_daily_timing_summer_hour': 11.0,\n",
       " 'qoi_report.maximum_daily_timing_winter_hour': 7.466666666666668,\n",
       " 'qoi_report.maximum_daily_use_shoulder_kw': 317.95384644844637,\n",
       " 'qoi_report.maximum_daily_use_summer_kw': 327.26090415498265,\n",
       " 'qoi_report.maximum_daily_use_winter_kw': 315.6197529087147,\n",
       " 'qoi_report.minimum_daily_use_shoulder_kw': 103.61861128367492,\n",
       " 'qoi_report.minimum_daily_use_summer_kw': 104.90776311365843,\n",
       " 'qoi_report.minimum_daily_use_winter_kw': 103.37679617650736,\n",
       " 'in.nhgis_tract_gisjoin': 'G2101110002700',\n",
       " 'in.nhgis_county_gisjoin': 'G2101110',\n",
       " 'in.state_name': 'Kentucky',\n",
       " 'in.state_abbreviation': 'KY',\n",
       " 'in.census_division_name': 'East South Central',\n",
       " 'in.census_region_name': 'South',\n",
       " 'in.weather_file_2018': 'USA_KY_Bowman.Fld.724235_2018.epw',\n",
       " 'in.weather_file_TMY3': 'Louisville_Bowman_Field',\n",
       " 'in.climate_zone_building_america': 'Mixed-Humid',\n",
       " 'in.climate_zone_ashrae_2004': '4A',\n",
       " 'in.iso_region': 'None',\n",
       " 'in.reeds_balancing_area': 109.0,\n",
       " 'in.resstock_county_id': 'KY, Jefferson County',\n",
       " 'in.nhgis_puma_gisjoin': 'G21001701',\n",
       " 'out.district_cooling.cooling.energy_consumption': 0.0,\n",
       " 'out.district_cooling.cooling.energy_consumption_intensity': 0.0,\n",
       " 'out.district_heating.heating.energy_consumption': 0.0,\n",
       " 'out.district_heating.heating.energy_consumption_intensity': 0.0,\n",
       " 'out.district_heating.water_systems.energy_consumption': 0.0,\n",
       " 'out.district_heating.water_systems.energy_consumption_intensity': 0.0,\n",
       " 'out.electricity.cooling.energy_consumption': 0.0,\n",
       " 'out.electricity.cooling.energy_consumption_intensity': 0.0,\n",
       " 'out.electricity.exterior_lighting.energy_consumption': 167588.8888888889,\n",
       " 'out.electricity.exterior_lighting.energy_consumption_intensity': 0.4788253968253969,\n",
       " 'out.electricity.fans.energy_consumption': 669.4444444444445,\n",
       " 'out.electricity.fans.energy_consumption_intensity': 0.0019126984126984128,\n",
       " 'out.electricity.heat_recovery.energy_consumption': 0.0,\n",
       " 'out.electricity.heat_recovery.energy_consumption_intensity': 0.0,\n",
       " 'out.electricity.heat_rejection.energy_consumption': 0.0,\n",
       " 'out.electricity.heat_rejection.energy_consumption_intensity': 0.0,\n",
       " 'out.electricity.heating.energy_consumption': 0.0,\n",
       " 'out.electricity.heating.energy_consumption_intensity': 0.0,\n",
       " 'out.electricity.interior_equipment.energy_consumption': 1419163.8888888888,\n",
       " 'out.electricity.interior_equipment.energy_consumption_intensity': 4.0547539682539675,\n",
       " 'out.electricity.interior_lighting.energy_consumption': 769658.3333333335,\n",
       " 'out.electricity.interior_lighting.energy_consumption_intensity': 2.19902380952381,\n",
       " 'out.electricity.pumps.energy_consumption': 0.0,\n",
       " 'out.electricity.pumps.energy_consumption_intensity': 0.0,\n",
       " 'out.electricity.refrigeration.energy_consumption': 0.0,\n",
       " 'out.electricity.refrigeration.energy_consumption_intensity': 0.0,\n",
       " 'out.electricity.water_systems.energy_consumption': 0.0,\n",
       " 'out.electricity.water_systems.energy_consumption_intensity': 0.0,\n",
       " 'out.natural_gas.heating.energy_consumption': 67778.23551466117,\n",
       " 'out.natural_gas.heating.energy_consumption_intensity': 0.19365210147046047,\n",
       " 'out.natural_gas.interior_equipment.energy_consumption': 0.0,\n",
       " 'out.natural_gas.interior_equipment.energy_consumption_intensity': 0.0,\n",
       " 'out.natural_gas.water_systems.energy_consumption': 0.0,\n",
       " 'out.natural_gas.water_systems.energy_consumption_intensity': 0.0,\n",
       " 'out.other_fuel.heating.energy_consumption': 0.0,\n",
       " 'out.other_fuel.heating.energy_consumption_intensity': 0.0,\n",
       " 'out.other_fuel.water_systems.energy_consumption': 0.0,\n",
       " 'out.other_fuel.water_systems.energy_consumption_intensity': 0.0,\n",
       " 'out.district_cooling.total.energy_consumption': 0.0,\n",
       " 'out.district_cooling.total.energy_consumption_intensity': 0.0,\n",
       " 'out.district_heating.total.energy_consumption': 0.0,\n",
       " 'out.district_heating.total.energy_consumption_intensity': 0.0,\n",
       " 'out.electricity.total.energy_consumption': 2357080.5555555555,\n",
       " 'out.electricity.total.energy_consumption_intensity': 6.734515873015873,\n",
       " 'out.site_energy.total.energy_consumption': 2424874.9985750304,\n",
       " 'out.site_energy.total.energy_consumption_intensity': 6.928214281642944,\n",
       " 'out.natural_gas.total.energy_consumption': 67778.23551466117,\n",
       " 'out.natural_gas.total.energy_consumption_intensity': 0.19365210147046047,\n",
       " 'out.other_fuel.total.energy_consumption': 0.0,\n",
       " 'out.other_fuel.total.energy_consumption_intensity': 0.0,\n",
       " 'upgrade': '00',\n",
       " 'weight': 2.361673895596391,\n",
       " 'metadata_index': 134004}"
      ]
     },
     "execution_count": 14,
     "metadata": {},
     "output_type": "execute_result"
    }
   ],
   "source": [
    "# the attribute parquet files are indexed by building id\n",
    "df.loc[100000].to_dict()"
   ]
  },
  {
   "cell_type": "markdown",
   "metadata": {},
   "source": [
    "We only use a subset of these attributes. The filtered list of attribute names for commercial buildings used in our work is stored in a file called `attributes_comstock.txt`."
   ]
  },
  {
   "cell_type": "code",
   "execution_count": 9,
   "metadata": {},
   "outputs": [
    {
     "data": {
      "text/plain": [
       "['in.building_subtype',\n",
       " 'in.building_type',\n",
       " 'in.number_of_stories',\n",
       " 'in.sqft',\n",
       " 'in.hvac_system_type',\n",
       " 'in.weekday_operating_hours',\n",
       " 'in.weekday_opening_time',\n",
       " 'in.weekend_operating_hours',\n",
       " 'in.weekend_opening_time',\n",
       " 'in.tstat_clg_delta_f',\n",
       " 'in.tstat_clg_sp_f',\n",
       " 'in.tstat_htg_delta_f',\n",
       " 'in.tstat_htg_sp_f']"
      ]
     },
     "execution_count": 9,
     "metadata": {},
     "output_type": "execute_result"
    }
   ],
   "source": [
    "attributes = open(SYSCAPS_PATH / 'metadata' / 'syscaps' / 'energyplus' / 'attributes_comstock.txt', 'r').read().strip().split('\\n')\n",
    "# remove empty strings and quotations\n",
    "attributes = [x.strip('\"') for x in attributes]\n",
    "list(filter(None, attributes))"
   ]
  },
  {
   "cell_type": "markdown",
   "metadata": {},
   "source": [
    "We can repeat this to explore the Wind dataset. "
   ]
  },
  {
   "cell_type": "code",
   "execution_count": 21,
   "metadata": {},
   "outputs": [
    {
     "name": "stdout",
     "output_type": "stream",
     "text": [
      "total 2000\n",
      "-rw-rwxr-- 1 pemami foundation 357 Feb 19  2024 Layout000_cap.txt\n",
      "-rw-rwxr-- 1 pemami foundation 372 Feb 19  2024 Layout001_cap.txt\n",
      "-rw-rwxr-- 1 pemami foundation 548 Feb 19  2024 Layout002_cap.txt\n",
      "-rw-rwxr-- 1 pemami foundation 548 Feb 19  2024 Layout003_cap.txt\n",
      "ls: write error: Broken pipe\n"
     ]
    }
   ],
   "source": [
    "!ls -l $SYSCAPS/captions/wind/medium/aug_0 | head -n 5"
   ]
  },
  {
   "cell_type": "code",
   "execution_count": 24,
   "metadata": {},
   "outputs": [
    {
     "name": "stdout",
     "output_type": "stream",
     "text": [
      " Nestled within a picturesque landscape, this wind plant boasts a cluster layout, housing a total of 101 turbines that stand tall at an impressive 130 meters in diameter. With a deliberate spacing of five times the rotor diameter, the turbines are strategically positioned to maximize energy production, resulting in a combined rated power of 3.4 megawatts.\n",
      "\n",
      " This wind plant features a single-string configuration with 30 turbines, each boasting a rotor diameter of 130 meters. The turbines are spaced at an average distance of four times the rotor diameter, resulting in a highly efficient energy capture. Each turbine is capable of generating 3.4 megawatts of power, making it a significant contributor to the local energy grid.\n",
      "\n",
      " Sure, here's a description of the wind plant based on the provided attributes:\n",
      "Located in a vast, open area, this wind plant is arranged in a cluster formation, with 188 turbines standing tall and proud, each with a rotor diameter of 130 meters. The turbines are spaced at an average distance of four times the rotor diameter, creating a harmonious and efficient layout that maximizes energy production. Each turbine is capable of generating 3.4 megawatts of power, making this plant a significant contributor to the region's renewable energy mix.\n",
      "\n",
      " Sure! Here's a description of the wind plant based on the provided attributes:\n",
      "Located in a vast open field, this wind plant stretches across 51 towering turbines, each standing at an impressive 130 meters in diameter. The turbines are strategically spaced 7 times their rotor diameter apart, allowing for optimal wind energy capture and efficient power generation. With a rated power output of 3.4 megawatts per turbine, this plant has a total installed capacity of over 160 megawatts, making it a significant contributor to the local energy mix.\n",
      "\n"
     ]
    }
   ],
   "source": [
    "# `captions` is the name of the subdirectory containing the captions\n",
    "# `wind` is the name of the Wind dataset (FLORIS is the simulator name)\n",
    "#  `medium` is the caption length\n",
    "#  `aug_0` is the style augmentation type\n",
    "for idx in range(4):\n",
    "    with open(Path(SYSCAPS_PATH) /  'captions' / 'wind' / 'medium' / 'aug_0' / f'Layout{idx:03}_cap.txt') as f:\n",
    "        print( f.read() )\n",
    "        print()"
   ]
  }
 ],
 "metadata": {
  "kernelspec": {
   "display_name": "Python 3",
   "language": "python",
   "name": "python3"
  },
  "language_info": {
   "codemirror_mode": {
    "name": "ipython",
    "version": 3
   },
   "file_extension": ".py",
   "mimetype": "text/x-python",
   "name": "python",
   "nbconvert_exporter": "python",
   "pygments_lexer": "ipython3",
   "version": "3.9.19"
  }
 },
 "nbformat": 4,
 "nbformat_minor": 2
}
