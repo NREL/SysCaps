{
 "cells": [
  {
   "cell_type": "code",
   "execution_count": null,
   "metadata": {},
   "outputs": [],
   "source": [
    "import torch \n",
    "from pathlib import Path "
   ]
  },
  {
   "cell_type": "code",
   "execution_count": null,
   "metadata": {},
   "outputs": [],
   "source": [
    "model_name = '../checkpoints/ResNet_bert_energyplus_comstock_keyvalue'\n",
    "seeds = [1000, 1001, 1002]\n",
    "\n",
    "models_last = [f'{model_name}_seed={seed}_last.pt' for seed in seeds]\n",
    "models_best = [f'{model_name}_seed={seed}_best.pt' for seed in seeds]\n",
    "models_merged = [f'{model_name}_seed={seed}_merged.pt' for seed in seeds]\n",
    "\n",
    "for m1, m2, mout in zip(models_last, models_best, models_merged):\n",
    "    \n",
    "    all_ckpts = [ torch.load( Path(m1) )['model'], torch.load( Path(m2) )['model'] ]\n",
    "\n",
    "    new_state_dict = {'model': {}}\n",
    "    # for each parameter\n",
    "    for k in all_ckpts[0].keys():\n",
    "        agg= []\n",
    "        # aggregate across all checkpoints\n",
    "        for ckpt in all_ckpts:\n",
    "            agg += [ckpt[k]]\n",
    "        \n",
    "        #print(agg)\n",
    "        try:\n",
    "            new_state_dict['model'][k] = torch.mean(torch.stack(agg,0), dim=0)\n",
    "        except RuntimeError:\n",
    "            if 'l_kernel' in k:\n",
    "                new_state_dict['model'][k] = agg[0]\n",
    "                print(k, agg)\n",
    "        #print(new_state_dict['model'][k])\n",
    "\n",
    "    torch.save(new_state_dict, Path(mout) )"
   ]
  }
 ],
 "metadata": {
  "language_info": {
   "name": "python"
  }
 },
 "nbformat": 4,
 "nbformat_minor": 2
}
